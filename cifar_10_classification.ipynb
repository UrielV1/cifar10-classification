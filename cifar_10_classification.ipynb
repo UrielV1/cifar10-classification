{
  "nbformat": 4,
  "nbformat_minor": 0,
  "metadata": {
    "colab": {
      "name": "cifar-10-classification.ipynb",
      "provenance": [],
      "collapsed_sections": [],
      "authorship_tag": "ABX9TyN7iMimdIzjf29esfJd0awG",
      "include_colab_link": true
    },
    "kernelspec": {
      "name": "python3",
      "display_name": "Python 3"
    },
    "accelerator": "GPU"
  },
  "cells": [
    {
      "cell_type": "markdown",
      "metadata": {
        "id": "view-in-github",
        "colab_type": "text"
      },
      "source": [
        "<a href=\"https://colab.research.google.com/github/UrielV1/cifar10-classification/blob/main/cifar_10_classification.ipynb\" target=\"_parent\"><img src=\"https://colab.research.google.com/assets/colab-badge.svg\" alt=\"Open In Colab\"/></a>"
      ]
    },
    {
      "cell_type": "code",
      "metadata": {
        "id": "aiINAXYa9O0S"
      },
      "source": [
        "import numpy as np\r\n",
        "import matplotlib.pyplot as plt\r\n",
        "import tensorflow as tf\r\n",
        "from tensorflow.keras.layers import Input, Conv2D, Dense, Flatten, \\\r\n",
        "Dropout, GlobalMaxPooling2D, BatchNormalization, MaxPooling2D\r\n",
        "from tensorflow.keras.models import Model"
      ],
      "execution_count": null,
      "outputs": []
    },
    {
      "cell_type": "markdown",
      "metadata": {
        "id": "bbotaHoxiMgp"
      },
      "source": [
        "### Importing the data"
      ]
    },
    {
      "cell_type": "code",
      "metadata": {
        "id": "l3zALYsc9_2t"
      },
      "source": [
        "cifar10 = tf.keras.datasets.cifar10"
      ],
      "execution_count": null,
      "outputs": []
    },
    {
      "cell_type": "code",
      "metadata": {
        "id": "ieLJMCpg-B3v",
        "colab": {
          "base_uri": "https://localhost:8080/"
        },
        "outputId": "846fddc3-2292-422a-9b41-8905be270a9a"
      },
      "source": [
        "(x_train, y_train), (x_test, y_test) = cifar10.load_data()"
      ],
      "execution_count": null,
      "outputs": [
        {
          "output_type": "stream",
          "text": [
            "Downloading data from https://www.cs.toronto.edu/~kriz/cifar-10-python.tar.gz\n",
            "170500096/170498071 [==============================] - 6s 0us/step\n"
          ],
          "name": "stdout"
        }
      ]
    },
    {
      "cell_type": "markdown",
      "metadata": {
        "id": "jD7YgvsOiQFj"
      },
      "source": [
        "### Feature engineering and basic exploration"
      ]
    },
    {
      "cell_type": "code",
      "metadata": {
        "id": "qhdgHBqM-Byi"
      },
      "source": [
        "x_test = x_test/255.0\r\n",
        "x_train = x_train/255.0"
      ],
      "execution_count": null,
      "outputs": []
    },
    {
      "cell_type": "code",
      "metadata": {
        "id": "tcyEClUO-Bvx"
      },
      "source": [
        "y_test = y_test.flatten()\r\n",
        "y_train = y_train.flatten()\r\n",
        "N = len(set(y_train))"
      ],
      "execution_count": null,
      "outputs": []
    },
    {
      "cell_type": "code",
      "metadata": {
        "colab": {
          "base_uri": "https://localhost:8080/"
        },
        "id": "E2VePEgjo-hP",
        "outputId": "4f98b585-ab89-4b48-b2ea-71e676aa0ae6"
      },
      "source": [
        "print(\"The image shape is:\", x_test.shape[1:])\r\n",
        "print(\"The number of classes is:\", N)\r\n",
        "print(f\"There are {x_train.shape[0]} train images and {x_test.shape[0]} test images\")"
      ],
      "execution_count": null,
      "outputs": [
        {
          "output_type": "stream",
          "text": [
            "The image shape is: (32, 32, 3)\n",
            "The number of classes is: 10\n",
            "There are 50000 train images and 10000 test images\n"
          ],
          "name": "stdout"
        }
      ]
    },
    {
      "cell_type": "markdown",
      "metadata": {
        "id": "CVkc0-tOhmxz"
      },
      "source": [
        "- The train set includes 10 classes with 5000 samples each\r\n",
        "- As we can see it is perfectly balanced "
      ]
    },
    {
      "cell_type": "code",
      "metadata": {
        "id": "q6u2Ok52wIL0"
      },
      "source": [
        "import matplotlib\r\n",
        "matplotlib.rc('xtick', labelsize=13) \r\n",
        "matplotlib.rc('ytick', labelsize=13)"
      ],
      "execution_count": null,
      "outputs": []
    },
    {
      "cell_type": "code",
      "metadata": {
        "colab": {
          "base_uri": "https://localhost:8080/",
          "height": 331
        },
        "id": "gz8MtrHKrEfQ",
        "outputId": "118494d3-76fc-4f15-e7e5-2d1acb463e54"
      },
      "source": [
        "f = plt.figure(figsize=(13,5))\r\n",
        "ax1 = f.add_subplot(121)\r\n",
        "ax2 = f.add_subplot(122)\r\n",
        "\r\n",
        "ax1.barh(np.unique(y_train, return_counts=True)[0], np.unique(y_train, return_counts=True)[1], color=['blue'], \r\n",
        "        tick_label=['airplane', 'automobile', 'bird', 'cat', 'deer', 'dog', 'frog', 'horse', 'ship', 'truck'])\r\n",
        "ax1.title.set_text('Train set')\r\n",
        "\r\n",
        "ax2.barh(np.unique(y_test, return_counts=True)[0], np.unique(y_test, return_counts=True)[1], color=['red'], \r\n",
        "        tick_label=['airplane', 'automobile', 'bird', 'cat', 'deer', 'dog', 'frog', 'horse', 'ship', 'truck'])\r\n",
        "ax2.title.set_text('Test set')\r\n",
        "\r\n",
        "f.tight_layout(pad=3.0)"
      ],
      "execution_count": null,
      "outputs": [
        {
          "output_type": "display_data",
          "data": {
            "image/png": "[encoded data removed]",
            "text/plain": [
              "<Figure size 936x360 with 2 Axes>"
            ]
          },
          "metadata": {
            "tags": [],
            "needs_background": "light"
          }
        }
      ]
    },
    {
      "cell_type": "markdown",
      "metadata": {
        "id": "KtFaBajYnZSX"
      },
      "source": [
        "- The train set includes 10 classes with 5000 samples each\r\n",
        "- The test set includes 10 classes with 1000 samples each\r\n",
        "- As we can see both are perfectly balanced "
      ]
    },
    {
      "cell_type": "markdown",
      "metadata": {
        "id": "4VEYrH73w4Lt"
      },
      "source": [
        "# Building the Models"
      ]
    },
    {
      "cell_type": "markdown",
      "metadata": {
        "id": "WFEhx67UHD7d"
      },
      "source": [
        "## 1st Model"
      ]
    },
    {
      "cell_type": "code",
      "metadata": {
        "id": "z9ywbLj6-Bqq"
      },
      "source": [
        "model1 = tf.keras.models.Sequential([\r\n",
        "  tf.keras.layers.Input(shape=x_train[0].shape),\r\n",
        "  Conv2D(32, (3, 3), strides=2, activation='relu'),\r\n",
        "  Conv2D(64, (3, 3), strides=2, activation='relu'),\r\n",
        "  Conv2D(128, (3, 3), strides=2, activation='relu'),\r\n",
        "  Flatten(),\r\n",
        "  Dropout(0.5),\r\n",
        "  Dense(1024, activation='relu'),\r\n",
        "  Dropout(0.2),\r\n",
        "  Dense(N, activation='softmax')\r\n",
        "])"
      ],
      "execution_count": null,
      "outputs": []
    },
    {
      "cell_type": "code",
      "metadata": {
        "id": "WwRa4VR7-BoU"
      },
      "source": [
        "model1.compile(optimizer='adam',\r\n",
        "              loss='sparse_categorical_crossentropy',\r\n",
        "              metrics=['accuracy'])"
      ],
      "execution_count": null,
      "outputs": []
    },
    {
      "cell_type": "code",
      "metadata": {
        "id": "dApGIbMe-Bl_"
      },
      "source": [
        "m1 = model1.fit(x_train, y_train, validation_split=0.1, epochs=20)"
      ],
      "execution_count": 103,
      "outputs": []
    },
    {
      "cell_type": "code",
      "metadata": {
        "colab": {
          "base_uri": "https://localhost:8080/",
          "height": 265
        },
        "id": "NjxtilIM-Bjf",
        "outputId": "2f2b599c-ea5b-433b-b126-83e0a60f8360"
      },
      "source": [
        "plt.plot(m1.history['accuracy'], label='acc')\r\n",
        "plt.plot(m1.history['val_accuracy'], label='val_acc')\r\n",
        "plt.legend()\r\n",
        "plt.show()"
      ],
      "execution_count": null,
      "outputs": [
        {
          "output_type": "display_data",
          "data": {
            "image/png": "[encoded data removed]",
            "text/plain": [
              "<Figure size 432x288 with 1 Axes>"
            ]
          },
          "metadata": {
            "tags": [],
            "needs_background": "light"
          }
        }
      ]
    },
    {
      "cell_type": "markdown",
      "metadata": {
        "id": "XFX6UkV6Orxf"
      },
      "source": [
        "Test performance"
      ]
    },
    {
      "cell_type": "code",
      "metadata": {
        "colab": {
          "base_uri": "https://localhost:8080/"
        },
        "id": "NExHj6MxKQNn",
        "outputId": "c83b4982-15e0-441f-bebc-e84998843d5c"
      },
      "source": [
        "model1.evaluate(x=x_test, y=y_test)"
      ],
      "execution_count": null,
      "outputs": [
        {
          "output_type": "stream",
          "text": [
            "313/313 [==============================] - 1s 2ms/step - loss: 0.8306 - accuracy: 0.7079\n"
          ],
          "name": "stdout"
        },
        {
          "output_type": "execute_result",
          "data": {
            "text/plain": [
              "[0.830616295337677, 0.7078999876976013]"
            ]
          },
          "metadata": {
            "tags": []
          },
          "execution_count": 14
        }
      ]
    },
    {
      "cell_type": "markdown",
      "metadata": {
        "id": "Cg3e1AwgqmqK"
      },
      "source": [
        "Observations\r\n",
        "- Dropout layers in between Conv2D didn't help\r\n",
        "- It seems like after ~20 epochs the validation accuracy stablizes at 73%\r\n",
        "- The test accuracy is nearly 71%"
      ]
    },
    {
      "cell_type": "markdown",
      "metadata": {
        "id": "Bg-eA6FOO4p3"
      },
      "source": [
        "## 2nd Model - Improved version\r\n",
        "- After each Convolution layer a Batch Normalization layer was added\r\n",
        "- In this way we make sure the data are normalized at each step\r\n",
        "- Max Pooling layer was added alternately after Convolution and Batch Normalization layers\r\n",
        "- Using the Max Pooling layers enables the model to observe bigger segments within the images  "
      ]
    },
    {
      "cell_type": "code",
      "metadata": {
        "id": "gqC8Z1YPKQLC"
      },
      "source": [
        "model2 = tf.keras.models.Sequential([\r\n",
        "  tf.keras.layers.Input(shape=x_train[0].shape),\r\n",
        "  Conv2D(32, (3, 3), activation='relu', padding='same'),\r\n",
        "  BatchNormalization(),\r\n",
        "  Conv2D(32, (3, 3), activation='relu', padding='same'),\r\n",
        "  BatchNormalization(),\r\n",
        "  MaxPooling2D((2, 2)),\r\n",
        "  Conv2D(64, (3, 3), activation='relu', padding='same'),\r\n",
        "  BatchNormalization(),\r\n",
        "  Conv2D(64, (3, 3), activation='relu', padding='same'),\r\n",
        "  BatchNormalization(),\r\n",
        "  MaxPooling2D((2, 2)),\r\n",
        "  Conv2D(128, (3, 3), activation='relu', padding='same'),\r\n",
        "  BatchNormalization(),\r\n",
        "  Conv2D(128, (3, 3), activation='relu', padding='same'),\r\n",
        "  BatchNormalization(),\r\n",
        "  MaxPooling2D((2, 2)),\r\n",
        "  Flatten(),\r\n",
        "  Dropout(0.4),\r\n",
        "  Dense(1024, activation='relu'),\r\n",
        "  Dropout(0.4),\r\n",
        "  Dense(N, activation='softmax')\r\n",
        "])"
      ],
      "execution_count": null,
      "outputs": []
    },
    {
      "cell_type": "code",
      "metadata": {
        "id": "vgO6gPFLKQIf"
      },
      "source": [
        "model2.compile(optimizer='adam',\r\n",
        "              loss='sparse_categorical_crossentropy',\r\n",
        "              metrics=['accuracy'])"
      ],
      "execution_count": null,
      "outputs": []
    },
    {
      "cell_type": "code",
      "metadata": {
        "id": "dpASA_4UKQGJ"
      },
      "source": [
        "m2 = model2.fit(x_train, y_train, validation_split=0.2, epochs=50)"
      ],
      "execution_count": 104,
      "outputs": []
    },
    {
      "cell_type": "code",
      "metadata": {
        "colab": {
          "base_uri": "https://localhost:8080/",
          "height": 269
        },
        "id": "Sh2e72RHKQDo",
        "outputId": "f2a52db0-40cb-4ecd-bea5-36f8458410f8"
      },
      "source": [
        "plt.plot(m2.history['accuracy'], label='acc')\r\n",
        "plt.plot(m2.history['val_accuracy'], label='val_acc')\r\n",
        "plt.legend()\r\n",
        "plt.show()"
      ],
      "execution_count": null,
      "outputs": [
        {
          "output_type": "display_data",
          "data": {
            "image/png": "[encoded data removed]",
            "text/plain": [
              "<Figure size 432x288 with 1 Axes>"
            ]
          },
          "metadata": {
            "tags": [],
            "needs_background": "light"
          }
        }
      ]
    },
    {
      "cell_type": "code",
      "metadata": {
        "colab": {
          "base_uri": "https://localhost:8080/"
        },
        "id": "mL8pTDLEeCMs",
        "outputId": "78988cd6-fcdf-472d-dbc2-874f15adf4e5"
      },
      "source": [
        "model2.evaluate(x=x_test, y=y_test)"
      ],
      "execution_count": null,
      "outputs": [
        {
          "output_type": "stream",
          "text": [
            "313/313 [==============================] - 1s 3ms/step - loss: 0.7049 - accuracy: 0.8414\n"
          ],
          "name": "stdout"
        },
        {
          "output_type": "execute_result",
          "data": {
            "text/plain": [
              "[0.7049285173416138, 0.8414000272750854]"
            ]
          },
          "metadata": {
            "tags": []
          },
          "execution_count": 20
        }
      ]
    },
    {
      "cell_type": "markdown",
      "metadata": {
        "id": "5X9C7Dwcdhwo"
      },
      "source": [
        "Observations\\Comments\r\n",
        "- The validation score is fluctuating around 84%\r\n",
        "- The test score was also 84%\r\n",
        "- There is a very big overfit as the train score is nearly 98%\r\n",
        "- Number of epochs and dropout layers were slightly tuned"
      ]
    },
    {
      "cell_type": "markdown",
      "metadata": {
        "id": "GsmevERFd5P_"
      },
      "source": [
        "## 3rd Model - Using Data Augmentation"
      ]
    },
    {
      "cell_type": "code",
      "metadata": {
        "id": "H5KEmdiuft-6"
      },
      "source": [
        "from sklearn.model_selection import train_test_split"
      ],
      "execution_count": null,
      "outputs": []
    },
    {
      "cell_type": "markdown",
      "metadata": {
        "id": "JRYMqb5ggXSj"
      },
      "source": [
        "Recreating x_train and y_train - using x_val, y_val notation"
      ]
    },
    {
      "cell_type": "code",
      "metadata": {
        "id": "lNtn0GkNf419"
      },
      "source": [
        "x_train, x_val, y_train, y_val = train_test_split(x_train, y_train, test_size=0.2, random_state=42)"
      ],
      "execution_count": null,
      "outputs": []
    },
    {
      "cell_type": "code",
      "metadata": {
        "id": "POVoCXljKQBT"
      },
      "source": [
        "batch_size = 32\r\n",
        "data_generator = tf.keras.preprocessing.image.ImageDataGenerator(width_shift_range=0.05, height_shift_range=0.05, horizontal_flip=True)\r\n",
        "train_generator = data_generator.flow(x_train, y_train, batch_size)\r\n",
        "steps_per_epoch = x_train.shape[0] // batch_size"
      ],
      "execution_count": null,
      "outputs": []
    },
    {
      "cell_type": "code",
      "metadata": {
        "id": "2s7GezCWwgZS"
      },
      "source": [
        "model3 = tf.keras.models.Sequential([\r\n",
        "  tf.keras.layers.Input(shape=x_train[0].shape),\r\n",
        "  Conv2D(32, (3, 3), activation='relu', padding='same'),\r\n",
        "  BatchNormalization(),\r\n",
        "  Conv2D(32, (3, 3), activation='relu', padding='same'),\r\n",
        "  BatchNormalization(),\r\n",
        "  MaxPooling2D((2, 2)),\r\n",
        "  Conv2D(64, (3, 3), activation='relu', padding='same'),\r\n",
        "  BatchNormalization(),\r\n",
        "  Conv2D(64, (3, 3), activation='relu', padding='same'),\r\n",
        "  BatchNormalization(),\r\n",
        "  MaxPooling2D((2, 2)),\r\n",
        "  Conv2D(128, (3, 3), activation='relu', padding='same'),\r\n",
        "  BatchNormalization(),\r\n",
        "  Conv2D(128, (3, 3), activation='relu', padding='same'),\r\n",
        "  BatchNormalization(),\r\n",
        "  MaxPooling2D((2, 2)),\r\n",
        "  Flatten(),\r\n",
        "  Dropout(0.4),\r\n",
        "  Dense(1024, activation='relu'),\r\n",
        "  Dropout(0.4),\r\n",
        "  Dense(N, activation='softmax')\r\n",
        "])"
      ],
      "execution_count": null,
      "outputs": []
    },
    {
      "cell_type": "code",
      "metadata": {
        "id": "nI16Occpw23w"
      },
      "source": [
        "model3.compile(optimizer='adam',\r\n",
        "              loss='sparse_categorical_crossentropy',\r\n",
        "              metrics=['accuracy'])"
      ],
      "execution_count": null,
      "outputs": []
    },
    {
      "cell_type": "code",
      "metadata": {
        "id": "o1MhR4ZN-BhB"
      },
      "source": [
        "m3 = model3.fit_generator(train_generator, validation_data=(x_val, y_val), steps_per_epoch=steps_per_epoch, epochs=50)"
      ],
      "execution_count": 105,
      "outputs": []
    },
    {
      "cell_type": "code",
      "metadata": {
        "colab": {
          "base_uri": "https://localhost:8080/",
          "height": 265
        },
        "id": "5h1DDIYFeoy8",
        "outputId": "2b2e8cfe-e449-414b-8ee0-d14d6ad9dab0"
      },
      "source": [
        "plt.plot(m3.history['accuracy'], label='acc')\r\n",
        "plt.plot(m3.history['val_accuracy'], label='val_acc')\r\n",
        "plt.legend()\r\n",
        "plt.show()"
      ],
      "execution_count": null,
      "outputs": [
        {
          "output_type": "display_data",
          "data": {
            "image/png": "[encoded data removed]",
            "text/plain": [
              "<Figure size 432x288 with 1 Axes>"
            ]
          },
          "metadata": {
            "tags": [],
            "needs_background": "light"
          }
        }
      ]
    },
    {
      "cell_type": "code",
      "metadata": {
        "colab": {
          "base_uri": "https://localhost:8080/"
        },
        "id": "7eoqwGmYeoue",
        "outputId": "ba5f1d75-4ac6-4871-a6a9-5320233aa959"
      },
      "source": [
        "model3.evaluate(x=x_test, y=y_test)"
      ],
      "execution_count": null,
      "outputs": [
        {
          "output_type": "stream",
          "text": [
            "313/313 [==============================] - 1s 3ms/step - loss: 0.4162 - accuracy: 0.8708\n"
          ],
          "name": "stdout"
        },
        {
          "output_type": "execute_result",
          "data": {
            "text/plain": [
              "[0.4161597788333893, 0.8708000183105469]"
            ]
          },
          "metadata": {
            "tags": []
          },
          "execution_count": 30
        }
      ]
    },
    {
      "cell_type": "markdown",
      "metadata": {
        "id": "grJViz8SyB2N"
      },
      "source": [
        "Observations\\Comments\r\n",
        "- The validation score is fluctuating around 87%\r\n",
        "- The test score was also 87%\r\n",
        "- The overfit problem was reduced as the train score is 93%\r\n",
        "- Augmentation hyperparameters were slightly tuned - e.g width and height shift"
      ]
    },
    {
      "cell_type": "markdown",
      "metadata": {
        "id": "azKzRP9G40hk"
      },
      "source": [
        "## Summary\r\n",
        "- In this work three different CNN models were tested\r\n",
        "- The first model was pretty basic, including 3 convolutional layers. The test score was 71%\r\n",
        "- The second model included 6 convolutional layers, as well as max pooling and batch normalization layers. The test score was 84%.\r\n",
        "- The third model was in fact the same as the second, including data augmentation. It yielded the best reslut with test score of 87%\r\n",
        "- For each of the models the hyperparameters were slightly tuned to optimize the results"
      ]
    },
    {
      "cell_type": "markdown",
      "metadata": {
        "id": "xDTpP5tQ6g0I"
      },
      "source": [
        "## Conclusions\r\n",
        "- As the complexity of the model increases it may yield better results, but the overfitting problem increases as well\r\n",
        "- There are some common architectures that are able to solve simple and generic problems\r\n",
        "- As expexted, the augmented data improved the results and reduced the overfitting\r\n",
        "- In order to optimize the results the different hyperparameters should be tuned carefully"
      ]
    }
  ]
}